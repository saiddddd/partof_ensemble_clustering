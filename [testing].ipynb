{
 "cells": [
  {
   "cell_type": "code",
   "execution_count": 57,
   "id": "5b1e4efe",
   "metadata": {
    "ExecuteTime": {
     "end_time": "2022-06-07T18:21:03.955571Z",
     "start_time": "2022-06-07T18:21:03.949876Z"
    }
   },
   "outputs": [],
   "source": [
    "#pip install fastcluster"
   ]
  },
  {
   "cell_type": "code",
   "execution_count": 58,
   "id": "6182aff3",
   "metadata": {
    "ExecuteTime": {
     "end_time": "2022-06-07T19:13:46.708882Z",
     "start_time": "2022-06-07T19:13:46.251672Z"
    }
   },
   "outputs": [],
   "source": [
    "import pandas as pd\n",
    "import numpy as np\n",
    "from sklearn.datasets import make_blobs\n",
    "from sklearn.preprocessing import StandardScaler\n",
    "from ensemble_clustering import Ensemble\n",
    "from sklearn.metrics import pairwise_distances\n",
    "from sklearn.metrics import davies_bouldin_score\n",
    "from sklearn import metrics"
   ]
  },
  {
   "cell_type": "code",
   "execution_count": 59,
   "id": "9084cd77",
   "metadata": {
    "ExecuteTime": {
     "end_time": "2022-06-07T19:14:04.842337Z",
     "start_time": "2022-06-07T19:14:04.831326Z"
    }
   },
   "outputs": [],
   "source": [
    "# Set metrics to use with each algorithm.\n",
    "algo_metrics = {\n",
    "    'MiniBatchKMeans': ['aic', 'inertia'],\n",
    "    'linkage_vector': ['inertia', 'max_diff']\n",
    "}"
   ]
  },
  {
   "cell_type": "code",
   "execution_count": 60,
   "id": "2855d121",
   "metadata": {
    "ExecuteTime": {
     "end_time": "2022-06-07T19:14:13.009988Z",
     "start_time": "2022-06-07T19:14:12.996874Z"
    }
   },
   "outputs": [],
   "source": [
    "# Set higher-level algorithm parameters. Set 'looping' param to None to auto-detect it.\n",
    "algo_params = {\n",
    "    'MiniBatchKMeans': {'n_clusters': None, 'compute_labels': True},\n",
    "    'linkage_vector': {}\n",
    "}"
   ]
  },
  {
   "cell_type": "code",
   "execution_count": 61,
   "id": "4d3f321a",
   "metadata": {
    "ExecuteTime": {
     "end_time": "2022-06-07T19:14:22.395247Z",
     "start_time": "2022-06-07T19:14:22.391292Z"
    }
   },
   "outputs": [],
   "source": [
    "# Define hyperparameter ranges.\n",
    "h_params = {\n",
    "    'linkage_vector': {\n",
    "        'method': ['centroid', 'median'],\n",
    "        'metric': ['euclidean']\n",
    "    },\n",
    "    'MiniBatchKMeans': {\n",
    "        'init': ['k-means++', 'random'],\n",
    "        'reassignment_ratio': np.geomspace(1e-4, 0.5, 2)\n",
    "    },\n",
    "}"
   ]
  },
  {
   "cell_type": "code",
   "execution_count": 62,
   "id": "5e5d4237",
   "metadata": {
    "ExecuteTime": {
     "end_time": "2022-06-07T19:14:35.206130Z",
     "start_time": "2022-06-07T19:14:35.199326Z"
    }
   },
   "outputs": [],
   "source": [
    "# Define matrix parameters.\n",
    "e_params = {\n",
    "    'build': ['mode', 'raw'],\n",
    "    'vote': ['row', 'col', 'full'],\n",
    "    'ground_truth': 3\n",
    "}"
   ]
  },
  {
   "cell_type": "code",
   "execution_count": 63,
   "id": "51e94c66",
   "metadata": {
    "ExecuteTime": {
     "end_time": "2022-06-07T19:14:43.039792Z",
     "start_time": "2022-06-07T19:14:43.028879Z"
    }
   },
   "outputs": [],
   "source": [
    "X, y = make_blobs(n_samples=30000, centers=3, n_features=2, center_box=(-5, 5), random_state=1)"
   ]
  },
  {
   "cell_type": "code",
   "execution_count": 64,
   "id": "4699e768",
   "metadata": {
    "ExecuteTime": {
     "end_time": "2022-06-07T19:14:45.560305Z",
     "start_time": "2022-06-07T19:14:45.537522Z"
    }
   },
   "outputs": [
    {
     "data": {
      "text/plain": [
       "array([[-5.76625805, -1.60287464],\n",
       "       [-5.0903303 , -2.08131793],\n",
       "       [-5.49699114, -0.53030276],\n",
       "       ...,\n",
       "       [-2.28029643,  1.88394361],\n",
       "       [-5.1421503 , -0.15208666],\n",
       "       [-0.71844269,  2.18372238]])"
      ]
     },
     "execution_count": 64,
     "metadata": {},
     "output_type": "execute_result"
    }
   ],
   "source": [
    "X"
   ]
  },
  {
   "cell_type": "code",
   "execution_count": 65,
   "id": "24d6e054",
   "metadata": {
    "ExecuteTime": {
     "end_time": "2022-06-07T19:16:07.034204Z",
     "start_time": "2022-06-07T19:16:07.027227Z"
    }
   },
   "outputs": [
    {
     "data": {
      "text/plain": [
       "array([0, 1, 2])"
      ]
     },
     "execution_count": 65,
     "metadata": {},
     "output_type": "execute_result"
    }
   ],
   "source": [
    "np.unique(y)"
   ]
  },
  {
   "cell_type": "code",
   "execution_count": 66,
   "id": "3d37520e",
   "metadata": {
    "ExecuteTime": {
     "end_time": "2022-06-07T19:16:14.349606Z",
     "start_time": "2022-06-07T19:16:14.335934Z"
    }
   },
   "outputs": [
    {
     "data": {
      "text/plain": [
       "(30000, 2)"
      ]
     },
     "execution_count": 66,
     "metadata": {},
     "output_type": "execute_result"
    }
   ],
   "source": [
    "X.shape"
   ]
  },
  {
   "cell_type": "code",
   "execution_count": 67,
   "id": "2eeb3afe",
   "metadata": {
    "ExecuteTime": {
     "end_time": "2022-06-07T19:16:36.530149Z",
     "start_time": "2022-06-07T19:16:27.638167Z"
    }
   },
   "outputs": [
    {
     "name": "stderr",
     "output_type": "stream",
     "text": [
      "Algorithms:   0%|                                                             | 0/2 [00:00<?, ?it/s]\n",
      "\u001b[Ac:\\ProgramData\\Anaconda3\\lib\\site-packages\\sklearn\\cluster\\_kmeans.py:887: UserWarning: MiniBatchKMeans is known to have a memory leak on Windows with MKL, when there are less chunks than available threads. You can prevent it by setting batch_size >= 1024 or by setting the environment variable OMP_NUM_THREADS=1\n",
      "  warnings.warn(\n",
      "c:\\ProgramData\\Anaconda3\\lib\\site-packages\\sklearn\\cluster\\_kmeans.py:887: UserWarning: MiniBatchKMeans is known to have a memory leak on Windows with MKL, when there are less chunks than available threads. You can prevent it by setting batch_size >= 1024 or by setting the environment variable OMP_NUM_THREADS=1\n",
      "  warnings.warn(\n",
      "\n",
      "\u001b[Ac:\\ProgramData\\Anaconda3\\lib\\site-packages\\sklearn\\cluster\\_kmeans.py:887: UserWarning: MiniBatchKMeans is known to have a memory leak on Windows with MKL, when there are less chunks than available threads. You can prevent it by setting batch_size >= 1024 or by setting the environment variable OMP_NUM_THREADS=1\n",
      "  warnings.warn(\n",
      "\n",
      "\u001b[Ac:\\ProgramData\\Anaconda3\\lib\\site-packages\\sklearn\\cluster\\_kmeans.py:887: UserWarning: MiniBatchKMeans is known to have a memory leak on Windows with MKL, when there are less chunks than available threads. You can prevent it by setting batch_size >= 1024 or by setting the environment variable OMP_NUM_THREADS=1\n",
      "  warnings.warn(\n",
      "\n",
      "\u001b[Ac:\\ProgramData\\Anaconda3\\lib\\site-packages\\sklearn\\cluster\\_kmeans.py:887: UserWarning: MiniBatchKMeans is known to have a memory leak on Windows with MKL, when there are less chunks than available threads. You can prevent it by setting batch_size >= 1024 or by setting the environment variable OMP_NUM_THREADS=1\n",
      "  warnings.warn(\n",
      "\n",
      "\u001b[A\n",
      "\u001b[Ac:\\ProgramData\\Anaconda3\\lib\\site-packages\\sklearn\\cluster\\_kmeans.py:887: UserWarning: MiniBatchKMeans is known to have a memory leak on Windows with MKL, when there are less chunks than available threads. You can prevent it by setting batch_size >= 1024 or by setting the environment variable OMP_NUM_THREADS=1\n",
      "  warnings.warn(\n",
      "\n",
      "\u001b[Ac:\\ProgramData\\Anaconda3\\lib\\site-packages\\sklearn\\cluster\\_kmeans.py:887: UserWarning: MiniBatchKMeans is known to have a memory leak on Windows with MKL, when there are less chunks than available threads. You can prevent it by setting batch_size >= 1024 or by setting the environment variable OMP_NUM_THREADS=1\n",
      "  warnings.warn(\n",
      "c:\\ProgramData\\Anaconda3\\lib\\site-packages\\sklearn\\cluster\\_kmeans.py:887: UserWarning: MiniBatchKMeans is known to have a memory leak on Windows with MKL, when there are less chunks than available threads. You can prevent it by setting batch_size >= 1024 or by setting the environment variable OMP_NUM_THREADS=1\n",
      "  warnings.warn(\n",
      "\n",
      "\u001b[Ac:\\ProgramData\\Anaconda3\\lib\\site-packages\\sklearn\\cluster\\_kmeans.py:887: UserWarning: MiniBatchKMeans is known to have a memory leak on Windows with MKL, when there are less chunks than available threads. You can prevent it by setting batch_size >= 1024 or by setting the environment variable OMP_NUM_THREADS=1\n",
      "  warnings.warn(\n",
      "c:\\ProgramData\\Anaconda3\\lib\\site-packages\\sklearn\\cluster\\_kmeans.py:887: UserWarning: MiniBatchKMeans is known to have a memory leak on Windows with MKL, when there are less chunks than available threads. You can prevent it by setting batch_size >= 1024 or by setting the environment variable OMP_NUM_THREADS=1\n",
      "  warnings.warn(\n",
      "\n",
      "\u001b[A\n",
      "\u001b[A\n",
      "\u001b[Ac:\\ProgramData\\Anaconda3\\lib\\site-packages\\sklearn\\cluster\\_kmeans.py:887: UserWarning: MiniBatchKMeans is known to have a memory leak on Windows with MKL, when there are less chunks than available threads. You can prevent it by setting batch_size >= 1024 or by setting the environment variable OMP_NUM_THREADS=1\n",
      "  warnings.warn(\n",
      "\n",
      "\u001b[Ac:\\ProgramData\\Anaconda3\\lib\\site-packages\\sklearn\\cluster\\_kmeans.py:887: UserWarning: MiniBatchKMeans is known to have a memory leak on Windows with MKL, when there are less chunks than available threads. You can prevent it by setting batch_size >= 1024 or by setting the environment variable OMP_NUM_THREADS=1\n",
      "  warnings.warn(\n",
      "\n",
      "\u001b[Ac:\\ProgramData\\Anaconda3\\lib\\site-packages\\sklearn\\cluster\\_kmeans.py:887: UserWarning: MiniBatchKMeans is known to have a memory leak on Windows with MKL, when there are less chunks than available threads. You can prevent it by setting batch_size >= 1024 or by setting the environment variable OMP_NUM_THREADS=1\n",
      "  warnings.warn(\n",
      "c:\\ProgramData\\Anaconda3\\lib\\site-packages\\sklearn\\cluster\\_kmeans.py:887: UserWarning: MiniBatchKMeans is known to have a memory leak on Windows with MKL, when there are less chunks than available threads. You can prevent it by setting batch_size >= 1024 or by setting the environment variable OMP_NUM_THREADS=1\n",
      "  warnings.warn(\n",
      "\n",
      "\u001b[Ac:\\ProgramData\\Anaconda3\\lib\\site-packages\\sklearn\\cluster\\_kmeans.py:887: UserWarning: MiniBatchKMeans is known to have a memory leak on Windows with MKL, when there are less chunks than available threads. You can prevent it by setting batch_size >= 1024 or by setting the environment variable OMP_NUM_THREADS=1\n",
      "  warnings.warn(\n",
      "\n",
      "\u001b[A\n",
      "\u001b[A\n",
      "\u001b[Ac:\\ProgramData\\Anaconda3\\lib\\site-packages\\sklearn\\cluster\\_kmeans.py:887: UserWarning: MiniBatchKMeans is known to have a memory leak on Windows with MKL, when there are less chunks than available threads. You can prevent it by setting batch_size >= 1024 or by setting the environment variable OMP_NUM_THREADS=1\n",
      "  warnings.warn(\n",
      "c:\\ProgramData\\Anaconda3\\lib\\site-packages\\sklearn\\cluster\\_kmeans.py:887: UserWarning: MiniBatchKMeans is known to have a memory leak on Windows with MKL, when there are less chunks than available threads. You can prevent it by setting batch_size >= 1024 or by setting the environment variable OMP_NUM_THREADS=1\n",
      "  warnings.warn(\n",
      "\n",
      "\u001b[Ac:\\ProgramData\\Anaconda3\\lib\\site-packages\\sklearn\\cluster\\_kmeans.py:887: UserWarning: MiniBatchKMeans is known to have a memory leak on Windows with MKL, when there are less chunks than available threads. You can prevent it by setting batch_size >= 1024 or by setting the environment variable OMP_NUM_THREADS=1\n",
      "  warnings.warn(\n",
      "c:\\ProgramData\\Anaconda3\\lib\\site-packages\\sklearn\\cluster\\_kmeans.py:887: UserWarning: MiniBatchKMeans is known to have a memory leak on Windows with MKL, when there are less chunks than available threads. You can prevent it by setting batch_size >= 1024 or by setting the environment variable OMP_NUM_THREADS=1\n",
      "  warnings.warn(\n",
      "\n",
      "\u001b[Ac:\\ProgramData\\Anaconda3\\lib\\site-packages\\sklearn\\cluster\\_kmeans.py:887: UserWarning: MiniBatchKMeans is known to have a memory leak on Windows with MKL, when there are less chunks than available threads. You can prevent it by setting batch_size >= 1024 or by setting the environment variable OMP_NUM_THREADS=1\n",
      "  warnings.warn(\n",
      "\n",
      "Algorithms:  50%|██████████████████████████▌                          | 1/2 [00:02<00:02,  2.40s/it]\n",
      "\u001b[A\n",
      "\u001b[A\n",
      "\u001b[A\n",
      "\u001b[A\n",
      "\u001b[A\n",
      "Algorithms: 100%|█████████████████████████████████████████████████████| 2/2 [00:14<00:00,  7.20s/it]"
     ]
    },
    {
     "name": "stdout",
     "output_type": "stream",
     "text": [
      "Ensemble Clustering metrics:\n",
      "----------------------------\n",
      "mode-row --- Accuracy: 0.00%, Average Error: 1.00.\n",
      "mode-col --- Accuracy: 0.00%, Average Error: 1.00.\n",
      "mode-full --- Accuracy: 0.00%, Average Error: 1.00.\n",
      "raw-row --- Accuracy: 0.00%, Average Error: 1.00.\n",
      "raw-col --- Accuracy: 0.00%, Average Error: 1.00.\n",
      "raw-full --- Accuracy: 100.00%, Average Error: nan.\n"
     ]
    },
    {
     "name": "stderr",
     "output_type": "stream",
     "text": [
      "\n"
     ]
    }
   ],
   "source": [
    "my_ensemble = Ensemble(algo_metrics, algo_params, h_params)\n",
    "res, nc_res = my_ensemble(X, (2, 7), e_params)"
   ]
  },
  {
   "cell_type": "code",
   "execution_count": 68,
   "id": "811a40e0",
   "metadata": {
    "ExecuteTime": {
     "end_time": "2022-06-07T19:17:10.776263Z",
     "start_time": "2022-06-07T19:17:10.768144Z"
    }
   },
   "outputs": [
    {
     "data": {
      "text/plain": [
       "{'MiniBatchKMeans': [{'aic': 3, 'inertia': 3},\n",
       "  {'aic': 3, 'inertia': 3},\n",
       "  {'aic': 3, 'inertia': 3},\n",
       "  {'aic': 4, 'inertia': 4}],\n",
       " 'linkage_vector': [{'inertia': 6, 'max_diff': 2},\n",
       "  {'inertia': 5, 'max_diff': 2}]}"
      ]
     },
     "execution_count": 68,
     "metadata": {},
     "output_type": "execute_result"
    }
   ],
   "source": [
    "res"
   ]
  },
  {
   "cell_type": "code",
   "execution_count": 69,
   "id": "1b253a34",
   "metadata": {
    "ExecuteTime": {
     "end_time": "2022-06-07T19:17:24.348133Z",
     "start_time": "2022-06-07T19:17:24.329365Z"
    }
   },
   "outputs": [
    {
     "data": {
      "text/plain": [
       "{'mode': {'row': {'num_clusters': [2]},\n",
       "  'col': {'num_clusters': [2]},\n",
       "  'full': {'num_clusters': [2]}},\n",
       " 'raw': {'row': {'num_clusters': [2]},\n",
       "  'col': {'num_clusters': [2]},\n",
       "  'full': {'num_clusters': [3]}},\n",
       " 'best_algo': [[('MiniBatchKMeans',\n",
       "    {'init': 'k-means++', 'reassignment_ratio': 0.0001}),\n",
       "   ('MiniBatchKMeans', {'init': 'k-means++', 'reassignment_ratio': 0.5}),\n",
       "   ('MiniBatchKMeans', {'init': 'random', 'reassignment_ratio': 0.0001})]],\n",
       " 'best_algo_global': [('MiniBatchKMeans',\n",
       "   {'init': 'k-means++', 'reassignment_ratio': 0.0001}),\n",
       "  ('MiniBatchKMeans', {'init': 'k-means++', 'reassignment_ratio': 0.5}),\n",
       "  ('MiniBatchKMeans', {'init': 'random', 'reassignment_ratio': 0.0001})]}"
      ]
     },
     "execution_count": 69,
     "metadata": {},
     "output_type": "execute_result"
    }
   ],
   "source": [
    "nc_res"
   ]
  },
  {
   "cell_type": "code",
   "execution_count": null,
   "id": "fb38f685",
   "metadata": {},
   "outputs": [],
   "source": []
  },
  {
   "cell_type": "code",
   "execution_count": 70,
   "id": "c0c84b91",
   "metadata": {},
   "outputs": [],
   "source": [
    "sc_X = StandardScaler()"
   ]
  },
  {
   "cell_type": "code",
   "execution_count": 71,
   "id": "7ab76ee0",
   "metadata": {},
   "outputs": [],
   "source": [
    "x = sc_X.fit_transform(X)"
   ]
  },
  {
   "cell_type": "code",
   "execution_count": 72,
   "id": "e8de3b19",
   "metadata": {},
   "outputs": [
    {
     "data": {
      "text/plain": [
       "array([[-5.76625805, -1.60287464],\n",
       "       [-5.0903303 , -2.08131793],\n",
       "       [-5.49699114, -0.53030276],\n",
       "       ...,\n",
       "       [-2.28029643,  1.88394361],\n",
       "       [-5.1421503 , -0.15208666],\n",
       "       [-0.71844269,  2.18372238]])"
      ]
     },
     "execution_count": 72,
     "metadata": {},
     "output_type": "execute_result"
    }
   ],
   "source": [
    "X"
   ]
  },
  {
   "cell_type": "code",
   "execution_count": 73,
   "id": "dfa3e27f",
   "metadata": {
    "ExecuteTime": {
     "end_time": "2022-06-07T19:40:09.835575Z",
     "start_time": "2022-06-07T19:40:09.703980Z"
    }
   },
   "outputs": [
    {
     "name": "stdout",
     "output_type": "stream",
     "text": [
      "[0 0 0 ... 1 0 1]\n"
     ]
    },
    {
     "name": "stderr",
     "output_type": "stream",
     "text": [
      "c:\\ProgramData\\Anaconda3\\lib\\site-packages\\sklearn\\cluster\\_kmeans.py:887: UserWarning: MiniBatchKMeans is known to have a memory leak on Windows with MKL, when there are less chunks than available threads. You can prevent it by setting batch_size >= 1024 or by setting the environment variable OMP_NUM_THREADS=1\n",
      "  warnings.warn(\n"
     ]
    }
   ],
   "source": [
    "from sklearn.cluster import MiniBatchKMeans, KMeans\n",
    "from sklearn.metrics.pairwise import pairwise_distances_argmin\n",
    "\n",
    "  \n",
    "# Load data in X \n",
    "#batch_size = 20\n",
    "# centers = [[1, 1], [-2, -1], [1, -2], [1, 9]]\n",
    "# n_clusters = len(centers)\n",
    "X = X\n",
    "  \n",
    "# perform the mini batch K-means\n",
    "mbk = MiniBatchKMeans(init ='k-means++', n_clusters = 2,\n",
    "                      #batch_size = batch_size,\n",
    "                      #n_init = 10,\n",
    "                      random_state=0,\n",
    "                      max_iter = 10)\n",
    "  \n",
    "mbk.fit(X)\n",
    "mbk_means_cluster_centers = np.sort(mbk.cluster_centers_, axis = 0)\n",
    "mbk_means_labels = pairwise_distances_argmin(X, mbk_means_cluster_centers)\n",
    "  \n",
    "# print the labels of each data\n",
    "print(mbk_means_labels)"
   ]
  },
  {
   "cell_type": "code",
   "execution_count": null,
   "id": "155f4c99",
   "metadata": {
    "ExecuteTime": {
     "end_time": "2022-06-07T19:40:13.118652Z",
     "start_time": "2022-06-07T19:40:13.106892Z"
    }
   },
   "outputs": [],
   "source": []
  },
  {
   "cell_type": "code",
   "execution_count": 74,
   "id": "ecf01b0a",
   "metadata": {
    "ExecuteTime": {
     "end_time": "2022-06-07T19:40:14.577694Z",
     "start_time": "2022-06-07T19:40:14.568914Z"
    }
   },
   "outputs": [],
   "source": [
    "calinski_harabasz_score_ensemble = metrics.calinski_harabasz_score(X, mbk_means_labels)\n",
    "db_index_ensemble = davies_bouldin_score(X, mbk_means_labels)"
   ]
  },
  {
   "cell_type": "code",
   "execution_count": null,
   "id": "1792a4df",
   "metadata": {},
   "outputs": [],
   "source": []
  },
  {
   "cell_type": "code",
   "execution_count": 75,
   "id": "d7ed453d",
   "metadata": {
    "ExecuteTime": {
     "end_time": "2022-06-07T19:40:25.606792Z",
     "start_time": "2022-06-07T19:40:25.459381Z"
    }
   },
   "outputs": [],
   "source": [
    "kmeans = KMeans(n_clusters=3, random_state=1).fit(X)"
   ]
  },
  {
   "cell_type": "code",
   "execution_count": 76,
   "id": "e46fbd75",
   "metadata": {
    "ExecuteTime": {
     "end_time": "2022-06-07T19:40:27.235572Z",
     "start_time": "2022-06-07T19:40:27.226452Z"
    }
   },
   "outputs": [],
   "source": [
    "# we store the cluster labels\n",
    "labels = kmeans.labels_"
   ]
  },
  {
   "cell_type": "code",
   "execution_count": 77,
   "id": "b9764e6b",
   "metadata": {
    "ExecuteTime": {
     "end_time": "2022-06-07T19:40:28.937761Z",
     "start_time": "2022-06-07T19:40:28.917151Z"
    }
   },
   "outputs": [],
   "source": [
    "calinski_harabasz_score = metrics.calinski_harabasz_score(X, labels)\n",
    "db_index = davies_bouldin_score(X, labels)"
   ]
  },
  {
   "cell_type": "code",
   "execution_count": null,
   "id": "d5ea02c3",
   "metadata": {
    "ExecuteTime": {
     "end_time": "2022-06-07T19:40:35.489789Z",
     "start_time": "2022-06-07T19:40:35.479244Z"
    }
   },
   "outputs": [],
   "source": []
  },
  {
   "cell_type": "code",
   "execution_count": 78,
   "id": "d6130d01",
   "metadata": {},
   "outputs": [
    {
     "data": {
      "text/html": [
       "<div>\n",
       "<style scoped>\n",
       "    .dataframe tbody tr th:only-of-type {\n",
       "        vertical-align: middle;\n",
       "    }\n",
       "\n",
       "    .dataframe tbody tr th {\n",
       "        vertical-align: top;\n",
       "    }\n",
       "\n",
       "    .dataframe thead th {\n",
       "        text-align: right;\n",
       "    }\n",
       "</style>\n",
       "<table border=\"1\" class=\"dataframe\">\n",
       "  <thead>\n",
       "    <tr style=\"text-align: right;\">\n",
       "      <th></th>\n",
       "      <th>metrics</th>\n",
       "      <th>without_ensemble</th>\n",
       "      <th>with_ensemble</th>\n",
       "    </tr>\n",
       "  </thead>\n",
       "  <tbody>\n",
       "    <tr>\n",
       "      <th>0</th>\n",
       "      <td>calinski_harabasz_score</td>\n",
       "      <td>81810.329685</td>\n",
       "      <td>84912.052741</td>\n",
       "    </tr>\n",
       "    <tr>\n",
       "      <th>1</th>\n",
       "      <td>davies_bouldin_score</td>\n",
       "      <td>0.710529</td>\n",
       "      <td>0.474434</td>\n",
       "    </tr>\n",
       "  </tbody>\n",
       "</table>\n",
       "</div>"
      ],
      "text/plain": [
       "                   metrics  without_ensemble  with_ensemble\n",
       "0  calinski_harabasz_score      81810.329685   84912.052741\n",
       "1     davies_bouldin_score          0.710529       0.474434"
      ]
     },
     "execution_count": 78,
     "metadata": {},
     "output_type": "execute_result"
    }
   ],
   "source": [
    "data = {'metrics': ['calinski_harabasz_score', 'davies_bouldin_score'],\n",
    "        'without_ensemble': [calinski_harabasz_score, db_index],\n",
    "        'with_ensemble': [calinski_harabasz_score_ensemble, db_index_ensemble],\n",
    "        }\n",
    " \n",
    "df = pd.DataFrame(data)\n",
    " \n",
    "\n",
    "df"
   ]
  },
  {
   "cell_type": "code",
   "execution_count": null,
   "id": "6fc3a300",
   "metadata": {},
   "outputs": [],
   "source": []
  },
  {
   "cell_type": "code",
   "execution_count": null,
   "id": "2e76d543",
   "metadata": {},
   "outputs": [],
   "source": []
  },
  {
   "cell_type": "code",
   "execution_count": null,
   "id": "c03c8b7d",
   "metadata": {},
   "outputs": [],
   "source": []
  },
  {
   "cell_type": "code",
   "execution_count": null,
   "id": "efffd48a",
   "metadata": {},
   "outputs": [],
   "source": []
  },
  {
   "cell_type": "code",
   "execution_count": null,
   "id": "9c4e4d4e",
   "metadata": {},
   "outputs": [],
   "source": []
  },
  {
   "cell_type": "code",
   "execution_count": null,
   "id": "655535a9",
   "metadata": {},
   "outputs": [],
   "source": []
  },
  {
   "cell_type": "code",
   "execution_count": null,
   "id": "327b05b4",
   "metadata": {},
   "outputs": [],
   "source": []
  },
  {
   "cell_type": "code",
   "execution_count": null,
   "id": "e92a9d3d",
   "metadata": {},
   "outputs": [],
   "source": []
  },
  {
   "cell_type": "code",
   "execution_count": null,
   "id": "90d5081d",
   "metadata": {},
   "outputs": [],
   "source": []
  },
  {
   "cell_type": "code",
   "execution_count": null,
   "id": "3419c9db",
   "metadata": {},
   "outputs": [],
   "source": []
  }
 ],
 "metadata": {
  "kernelspec": {
   "display_name": "Python 3.9.7 ('base')",
   "language": "python",
   "name": "python3"
  },
  "language_info": {
   "codemirror_mode": {
    "name": "ipython",
    "version": 3
   },
   "file_extension": ".py",
   "mimetype": "text/x-python",
   "name": "python",
   "nbconvert_exporter": "python",
   "pygments_lexer": "ipython3",
   "version": "3.9.7"
  },
  "toc": {
   "base_numbering": 1,
   "nav_menu": {},
   "number_sections": true,
   "sideBar": true,
   "skip_h1_title": false,
   "title_cell": "Table of Contents",
   "title_sidebar": "Contents",
   "toc_cell": false,
   "toc_position": {},
   "toc_section_display": true,
   "toc_window_display": false
  },
  "vscode": {
   "interpreter": {
    "hash": "ad2bdc8ecc057115af97d19610ffacc2b4e99fae6737bb82f5d7fb13d2f2c186"
   }
  }
 },
 "nbformat": 4,
 "nbformat_minor": 5
}
